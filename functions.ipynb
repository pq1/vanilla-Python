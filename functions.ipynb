{
  "cells": [
    {
      "metadata": {},
      "cell_type": "markdown",
      "source": "# Automate the Boring \n* the return keyword specifies exactly what to return"
    },
    {
      "metadata": {
        "trusted": true
      },
      "cell_type": "code",
      "source": "import random\ndef getAnswer(answerNumber):\n        if answerNumber == 1:\n            return 'It is certain'\n        elif answerNumber == 2:\n            return 'It is decidedly so'\n        elif answerNumber == 3:\n            return 'Yes'\n        elif answerNumber == 4:\n            return 'Reply hazy try again'\n        elif answerNumber == 5:\n            return 'Ask again later'\n        elif answerNumber == 6:\n            return 'Concentrate and ask again'\n        elif answerNumber == 7:\n            return 'My reply is no'\n        elif answerNumber == 8:\n            return 'Outlook not so good'\n        elif answerNumber == 9:\n            return 'Very doubtful'\n\nr = random.randint(1, 9)\nfortune = getAnswer(r)\nprint(fortune)",
      "execution_count": null,
      "outputs": []
    },
    {
      "metadata": {
        "collapsed": true
      },
      "cell_type": "markdown",
      "source": "#### Invoking functions = whenever function is CALLED  \n```add_numbers()``` is invoked  \nfunction named add_numbers executes"
    },
    {
      "metadata": {},
      "cell_type": "markdown",
      "source": "Information(data) passed inside parentheses is used by function  \n```add_numbers(53, 109)```  \n* data inside parentheses are called arguments  \n* matching-by-order makes the arguments *positional arguments*\n* function needs to be setup to receive arguments  \n```Python\ndef add_numbers(first_number, second_number):\n    total = first_number + second_number\n    print(total)\n```"
    },
    {
      "metadata": {
        "trusted": true
      },
      "cell_type": "code",
      "source": "def add_numbers(first_number, second_number):\n    total = first_number + second_number\n    return total\n\nadd_numbers(53, 109)",
      "execution_count": 1,
      "outputs": [
        {
          "output_type": "execute_result",
          "execution_count": 1,
          "data": {
            "text/plain": "162"
          },
          "metadata": {}
        }
      ]
    },
    {
      "metadata": {
        "trusted": true
      },
      "cell_type": "code",
      "source": "# Function that takes 3 arguments - dict, key, value\n# Function adds the key and value to the dictionary\n\ndef add_key_value(dict, key, value):\n    dict[key] = value",
      "execution_count": null,
      "outputs": []
    },
    {
      "metadata": {},
      "cell_type": "markdown",
      "source": "#### Keyword arguments allows for ordering of arguments to not matter\n```Python\ndef say_names_of_couple(husband='Rover', wife='Zelda'):\n    print('The couple\\'s names are {} and {}'.format(husband, wife))\n\nsay_names_of_couple()\n```"
    },
    {
      "metadata": {
        "trusted": true
      },
      "cell_type": "code",
      "source": "def say_names_of_couple(husband='Rover', wife='Zelda'):\n    return f'The couple\\'s names are {husband} and {wife}'\n\nsay_names_of_couple()",
      "execution_count": 2,
      "outputs": [
        {
          "output_type": "execute_result",
          "execution_count": 2,
          "data": {
            "text/plain": "\"The couple's names are Rover and Zelda\""
          },
          "metadata": {}
        }
      ]
    },
    {
      "metadata": {},
      "cell_type": "markdown",
      "source": "**Positional Arguments**\n* must line up with parameters  \n```Python\ndef add_num(x, y):\n    print(x + y)\n```\nx = 4\ny = 6\nadd_num(4, 6)"
    },
    {
      "metadata": {
        "trusted": true
      },
      "cell_type": "code",
      "source": "# Defining the arguments in the function when invoked\ndef analyze(nation, pop):\n    return f'The country {nation} has {pop} many people'\n\nanalyze(nation='Bangladesh', pop=16300000)",
      "execution_count": 3,
      "outputs": [
        {
          "output_type": "execute_result",
          "execution_count": 3,
          "data": {
            "text/plain": "'The country Bangladesh has 16300000 many people'"
          },
          "metadata": {}
        }
      ]
    },
    {
      "metadata": {
        "trusted": true
      },
      "cell_type": "code",
      "source": "# Default arguments\ndef calc_tax(sales_total, tax_rate=.04):\n    print(sales_total * tax_rate)\n\ncalc_tax(100)",
      "execution_count": 1,
      "outputs": [
        {
          "output_type": "stream",
          "text": "4.0\n",
          "name": "stdout"
        }
      ]
    },
    {
      "metadata": {},
      "cell_type": "markdown",
      "source": "You can also override default arguments by assigning a new variable to it.  \n*Put an example of override arguments here*\n"
    },
    {
      "metadata": {},
      "cell_type": "markdown",
      "source": "### Mixing positional and keyword arguments\n```Python\ngive_greeting(\"Hello there\", first_name=\"Al\")\n```\n\nFirst argument is positional because there is no keyboard.\nSecond argument is keyword because it pairs the keyword **first_name** to value \"Al\"\n\n* Positional arguments and parameters always come first.\n* Keyword parameters without defaults come second. \n* Keyword parameters with defaults always come last.\n"
    },
    {
      "metadata": {
        "trusted": true
      },
      "cell_type": "code",
      "source": "customers = {\n    0: {\n        \"first name\": \"John\",\n        \"last name\": \"Ogden\",\n        \"address\": \"301 Arbor Rd.\",\n    },\n    1: {\n        \"first name\": \"Ann\",\n        \"last name\": \"Sattermyer\",\n        \"address\": \"PO Box 1145\",\n    },\n    2: {\n        \"first name\": \"Jill\",\n        \"last name\": \"Somers\",\n        \"address\": \"3 Main St.\",\n    }\n}\n\ndef find_something(dict, inner_dict, target):\n    print(dict[inner_dict][target])\n    \nfind_something(customers, 2, \"last name\")",
      "execution_count": 1,
      "outputs": [
        {
          "output_type": "stream",
          "text": "Somers\n",
          "name": "stdout"
        }
      ]
    },
    {
      "metadata": {},
      "cell_type": "markdown",
      "source": "```customers = dictionary```   \n```2 = inner_dict```  \n```target = \"last name\"```"
    },
    {
      "metadata": {},
      "cell_type": "markdown",
      "source": "### Unknown number of arguments = Optional Arguments\nwriting a function that handles added information\n```Python\ndef display results(winner, score, **other_info):\n```\n* The 2 asterisks will handle the information and put it in a dictionary  \n* Usually 2 asterisks and parameter name        "
    },
    {
      "metadata": {
        "trusted": true
      },
      "cell_type": "code",
      "source": "def display_results(winner, score, **other_info):\n    print(\"The winner was \" + winner)\n    print(\"The score was \" + score)\n    # If there is more arguments passed, write a for loop to display data\n    for key, value in other_info.items():\n        print(key + \": \" + value)\n\ndisplay_results(winner=\"Real Madrid\", score=\"1-0\", overtime=\"yes\", injuries=\"none\")",
      "execution_count": 1,
      "outputs": [
        {
          "output_type": "stream",
          "text": "The winner was Real Madrid\nThe score was 1-0\novertime: yes\ninjuries: none\n",
          "name": "stdout"
        }
      ]
    },
    {
      "metadata": {},
      "cell_type": "markdown",
      "source": "* The 1 asterisk will handle information in tuple"
    },
    {
      "metadata": {
        "trusted": true
      },
      "cell_type": "markdown",
      "source": "### Getting information from functions\n```Python\ndef results(arg1, arg2):  # function that takes 2 arguments\n    return arg1 + arg2    # returns the result of adding 2 arguments\n\nprint(results(2, 4)\n```\nInstead of putting print into the function, when calling the function, put the function inside a print function\n"
    },
    {
      "metadata": {
        "trusted": true
      },
      "cell_type": "markdown",
      "source": "#### Functions can be variables\nSince the function returns a value, the value can be assigned as a variable.  \n\n```Python\ndef add_numbers(first_number, second_number):\n    return first_number + second_number\n\nresult_of_add = add_numbers(1, 2)\n```"
    },
    {
      "metadata": {
        "trusted": true
      },
      "cell_type": "code",
      "source": "import os",
      "execution_count": 1,
      "outputs": []
    },
    {
      "metadata": {
        "trusted": true
      },
      "cell_type": "code",
      "source": "# os.chdir()\nuser_input = input('what is your name? ')",
      "execution_count": 2,
      "outputs": [
        {
          "output_type": "stream",
          "name": "stdout",
          "text": "what is your name? philip\n"
        }
      ]
    },
    {
      "metadata": {
        "trusted": true
      },
      "cell_type": "code",
      "source": "user_input",
      "execution_count": 3,
      "outputs": [
        {
          "output_type": "execute_result",
          "execution_count": 3,
          "data": {
            "text/plain": "'philip'"
          },
          "metadata": {}
        }
      ]
    },
    {
      "metadata": {},
      "cell_type": "markdown",
      "source": "# This is using funcitons"
    },
    {
      "metadata": {
        "trusted": true
      },
      "cell_type": "code",
      "source": "def x(y)",
      "execution_count": 4,
      "outputs": [
        {
          "output_type": "error",
          "ename": "SyntaxError",
          "evalue": "invalid syntax (<ipython-input-4-87328c44aff8>, line 1)",
          "traceback": [
            "\u001b[0;36m  File \u001b[0;32m\"<ipython-input-4-87328c44aff8>\"\u001b[0;36m, line \u001b[0;32m1\u001b[0m\n\u001b[0;31m    def x(y)\u001b[0m\n\u001b[0m            ^\u001b[0m\n\u001b[0;31mSyntaxError\u001b[0m\u001b[0;31m:\u001b[0m invalid syntax\n"
          ]
        }
      ]
    },
    {
      "metadata": {},
      "cell_type": "markdown",
      "source": ""
    }
  ],
  "metadata": {
    "kernelspec": {
      "name": "python36",
      "display_name": "Python 3.6",
      "language": "python"
    },
    "language_info": {
      "mimetype": "text/x-python",
      "nbconvert_exporter": "python",
      "name": "python",
      "pygments_lexer": "ipython3",
      "version": "3.6.6",
      "file_extension": ".py",
      "codemirror_mode": {
        "version": 3,
        "name": "ipython"
      }
    }
  },
  "nbformat": 4,
  "nbformat_minor": 2
}