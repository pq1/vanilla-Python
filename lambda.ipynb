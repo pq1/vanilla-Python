{
  "cells": [
    {
      "metadata": {},
      "cell_type": "markdown",
      "source": "# Lambda functions\n* used to operate on inputs and returns outputs\n* never used to perform actions\n* always used as single line"
    },
    {
      "metadata": {
        "trusted": true
      },
      "cell_type": "code",
      "source": "# typical function\ndef add(x, y):\n    return x + y",
      "execution_count": 2,
      "outputs": []
    },
    {
      "metadata": {
        "trusted": true
      },
      "cell_type": "code",
      "source": "print(add(5, 7))",
      "execution_count": 3,
      "outputs": [
        {
          "output_type": "stream",
          "text": "12\n",
          "name": "stdout"
        }
      ]
    },
    {
      "metadata": {},
      "cell_type": "markdown",
      "source": "## Lambda\n1. lambda keyword\n2. list of parameters\n3. colon\n4. return the value of the function without specifying the return keyword"
    },
    {
      "metadata": {
        "trusted": true
      },
      "cell_type": "code",
      "source": "# x, y = the variables that will be used\n# python infers that the result will be returned. No return is needed\nlambda x, y: x+y\n\n# Can also assign the function to a name\nadd = lambda x, y: x+y",
      "execution_count": 4,
      "outputs": []
    },
    {
      "metadata": {
        "trusted": true
      },
      "cell_type": "code",
      "source": "# Without a name, use the lambda function in the same line\n# Not very common to use\n(lambda x, y: x + y)(5,7)\n# lambda function needs to be wrapped in a paratheses\nprint((lambda x, y: x + y)(5,7))",
      "execution_count": 8,
      "outputs": [
        {
          "output_type": "stream",
          "text": "12\n",
          "name": "stdout"
        }
      ]
    },
    {
      "metadata": {
        "trusted": true
      },
      "cell_type": "code",
      "source": "def double(x):\n    return x * 2",
      "execution_count": 9,
      "outputs": []
    },
    {
      "metadata": {
        "trusted": true
      },
      "cell_type": "code",
      "source": "sequence = ",
      "execution_count": null,
      "outputs": []
    }
  ],
  "metadata": {
    "kernelspec": {
      "name": "python36",
      "display_name": "Python 3.6",
      "language": "python"
    },
    "language_info": {
      "mimetype": "text/x-python",
      "nbconvert_exporter": "python",
      "name": "python",
      "pygments_lexer": "ipython3",
      "version": "3.6.6",
      "file_extension": ".py",
      "codemirror_mode": {
        "version": 3,
        "name": "ipython"
      }
    }
  },
  "nbformat": 4,
  "nbformat_minor": 2
}