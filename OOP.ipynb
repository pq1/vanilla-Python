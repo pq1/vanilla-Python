{
  "cells": [
    {
      "metadata": {},
      "cell_type": "markdown",
      "source": "# Need for classes\n**When you want to restrict certain types of attributes and methods**  \ni.e.Have a function that is only accessible to certain objects  \nClasses = logical collection of attributes and methods ; a blueprint  \n```Python\n    class Employee:\n        #class Body\n```  \nObjects = instance of a class that has access to all the attributes and methods of that class  ; execution of the blueprint  \n```Python\n    employeeOne = Employee()\n```  \n**Instantiation** = creation of an object of a class  \nOr \"Instance of Object\"\n\n## Naming Structure\n* Class: Noun\n* Attribute (Property): Adjective\n* Method (Function): Verb\n\n\n### Pillars of OOP\n1. Abstraction - providing only the essential informatoin\n2. Encapsulation - bundling of methods and attributes and hiding to prevent unauthorized access\n3. Inheritance - derived class inheriting properties from a base class\n4. Polymorphism - "
    },
    {
      "metadata": {
        "trusted": true
      },
      "cell_type": "code",
      "source": "# Example - check if employee has achieved weekly target\nclass Employee:   # colon denotes set of attributes and methods\n    # Class Attributes accessible to entire class and derived classes\n    name = 'Bob'\n    designation = 'Sales Executive'\n    salesMadeThisWeek = 6 # Attribute for number of sales\n    \n    # action being performed by employee - Method\n    def hasAchievedTarget(self): # default parameter - used to be able to access the class without a required parameter\n        # sales of employee needs to be 5\n        # self is needed to access the method\n        if self.salesMadeThisWeek >= 5:\n            print(\"Target has been achieved\")\n        else:\n            print(\"Target has not been achieved\")",
      "execution_count": 1,
      "outputs": []
    },
    {
      "metadata": {
        "trusted": true
      },
      "cell_type": "code",
      "source": "# Instantiation of Employee class (Instance of Class)\nemployeeOne = Employee()\n\n# employeeOne instance has ALL attributes and methods of the class\nemployeeOne.name\nemployeeOne.hasAchievedTarget()",
      "execution_count": 2,
      "outputs": [
        {
          "output_type": "stream",
          "text": "Target has been achieved\n",
          "name": "stdout"
        }
      ]
    },
    {
      "metadata": {
        "trusted": true
      },
      "cell_type": "code",
      "source": "# We need to make it so that NOT all employee names are Bob\nemployeeTwo = Employee()\nemployeeTwo.name",
      "execution_count": 8,
      "outputs": [
        {
          "output_type": "execute_result",
          "execution_count": 8,
          "data": {
            "text/plain": "'Bob'"
          },
          "metadata": {}
        }
      ]
    },
    {
      "metadata": {},
      "cell_type": "markdown",
      "source": "# Class attributes and Instance attributes\n**class attribute** - common to all instances of a class  \n**instance attribute** - attribute specific to each instance of a class. instance attributes are accessed within an instance method by making use of the self object  \n\n\n"
    },
    {
      "metadata": {
        "trusted": true
      },
      "cell_type": "code",
      "source": "# Basic Class\nclass Player: # class is defined with capital letter. The name should be a single object\n    def __init__(self, name):\n        # __init__ will initialize the class - meaning the object\n        # self is only used in classes to describe the object itself\n        # with name as an argument, name is a required argument when creating the object\n        # All arguments are mostly strings\n        \n        # self.name = class variable is assigned the argument name that is passed\n        self.name = name\n        \n        # self.numbers is passed and all objects created from this class will have numbers that is accessible\n        self.numbers = (5, 9, 12, 13)\n        \n\n        ",
      "execution_count": 1,
      "outputs": []
    },
    {
      "metadata": {
        "trusted": true
      },
      "cell_type": "code",
      "source": "phil = Player(\"Phil\")",
      "execution_count": 2,
      "outputs": []
    },
    {
      "metadata": {
        "trusted": true
      },
      "cell_type": "code",
      "source": "print(phil.name)",
      "execution_count": 3,
      "outputs": [
        {
          "output_type": "stream",
          "text": "Phil\n",
          "name": "stdout"
        }
      ]
    },
    {
      "metadata": {
        "trusted": true
      },
      "cell_type": "code",
      "source": "# Keep this to show that name is required to pass as argument when using the Player object\nx = Player()  ",
      "execution_count": 4,
      "outputs": [
        {
          "output_type": "error",
          "ename": "TypeError",
          "evalue": "__init__() missing 1 required positional argument: 'name'",
          "traceback": [
            "\u001b[0;31m---------------------------------------------------------------------------\u001b[0m",
            "\u001b[0;31mTypeError\u001b[0m                                 Traceback (most recent call last)",
            "\u001b[0;32m<ipython-input-4-3d21380019fc>\u001b[0m in \u001b[0;36m<module>\u001b[0;34m\u001b[0m\n\u001b[1;32m      1\u001b[0m \u001b[0;31m# Keep this to show that name is required to pass as argument when using the Player object\u001b[0m\u001b[0;34m\u001b[0m\u001b[0;34m\u001b[0m\u001b[0m\n\u001b[0;32m----> 2\u001b[0;31m \u001b[0mx\u001b[0m \u001b[0;34m=\u001b[0m \u001b[0mPlayer\u001b[0m\u001b[0;34m(\u001b[0m\u001b[0;34m)\u001b[0m\u001b[0;34m\u001b[0m\u001b[0m\n\u001b[0m",
            "\u001b[0;31mTypeError\u001b[0m: __init__() missing 1 required positional argument: 'name'"
          ]
        }
      ]
    },
    {
      "metadata": {
        "trusted": true
      },
      "cell_type": "code",
      "source": "print(phil.numbers)",
      "execution_count": 5,
      "outputs": [
        {
          "output_type": "stream",
          "text": "(5, 9, 12, 13)\n",
          "name": "stdout"
        }
      ]
    },
    {
      "metadata": {
        "trusted": true
      },
      "cell_type": "code",
      "source": "# Class Attribute\nclass Employee:\n    NumberOfHours = 40\n",
      "execution_count": 5,
      "outputs": []
    },
    {
      "metadata": {
        "trusted": true
      },
      "cell_type": "code",
      "source": "employeeOne = Employee()\nprint(employeeOne.NumberOfHours)",
      "execution_count": 6,
      "outputs": [
        {
          "output_type": "stream",
          "text": "40\n",
          "name": "stdout"
        }
      ]
    },
    {
      "metadata": {
        "trusted": true
      },
      "cell_type": "code",
      "source": "# Changing Instance Attribute\nemployeeTwo = Employee()\nemployeeTwo.NumberOfHours = 45\nemployeeTwo.NumberOfHours",
      "execution_count": 8,
      "outputs": [
        {
          "output_type": "execute_result",
          "execution_count": 8,
          "data": {
            "text/plain": "45"
          },
          "metadata": {}
        }
      ]
    },
    {
      "metadata": {},
      "cell_type": "markdown",
      "source": "Python first checks the instance attribute. If INSTANCE attribute does not have a value, it goes to check the CLASS attribute"
    },
    {
      "metadata": {
        "trusted": true
      },
      "cell_type": "code",
      "source": "# There is no instance attribtue or class attribute\nemployeeOne.age",
      "execution_count": 9,
      "outputs": [
        {
          "output_type": "error",
          "ename": "AttributeError",
          "evalue": "'Employee' object has no attribute 'age'",
          "traceback": [
            "\u001b[0;31m---------------------------------------------------------------------------\u001b[0m",
            "\u001b[0;31mAttributeError\u001b[0m                            Traceback (most recent call last)",
            "\u001b[0;32m<ipython-input-9-88bf17e10772>\u001b[0m in \u001b[0;36m<module>\u001b[0;34m\u001b[0m\n\u001b[1;32m      1\u001b[0m \u001b[0;31m# There is no instance attribtue or class attribute\u001b[0m\u001b[0;34m\u001b[0m\u001b[0;34m\u001b[0m\u001b[0m\n\u001b[0;32m----> 2\u001b[0;31m \u001b[0memployeeOne\u001b[0m\u001b[0;34m.\u001b[0m\u001b[0mage\u001b[0m\u001b[0;34m\u001b[0m\u001b[0m\n\u001b[0m",
            "\u001b[0;31mAttributeError\u001b[0m: 'Employee' object has no attribute 'age'"
          ]
        }
      ]
    },
    {
      "metadata": {},
      "cell_type": "markdown",
      "source": "# Understanding Self\nWithout the self parameter"
    },
    {
      "metadata": {
        "trusted": true
      },
      "cell_type": "code",
      "source": "class Employee:\n    def employeeDetails():\n        pass",
      "execution_count": 10,
      "outputs": []
    },
    {
      "metadata": {
        "trusted": true
      },
      "cell_type": "code",
      "source": "# Keep this to show there TypeError\nemployee = Employee()\nemployee.employeeDetails()\n# Python Interpreter will automatically pass 1 arguement - the object name itself = enhance employee will be passed\n#employee.employeeDetails(employee)",
      "execution_count": 12,
      "outputs": [
        {
          "output_type": "error",
          "ename": "TypeError",
          "evalue": "employeeDetails() takes 0 positional arguments but 1 was given",
          "traceback": [
            "\u001b[0;31m---------------------------------------------------------------------------\u001b[0m",
            "\u001b[0;31mTypeError\u001b[0m                                 Traceback (most recent call last)",
            "\u001b[0;32m<ipython-input-12-7d9870dfbca0>\u001b[0m in \u001b[0;36m<module>\u001b[0;34m\u001b[0m\n\u001b[1;32m      1\u001b[0m \u001b[0memployee\u001b[0m \u001b[0;34m=\u001b[0m \u001b[0mEmployee\u001b[0m\u001b[0;34m(\u001b[0m\u001b[0;34m)\u001b[0m\u001b[0;34m\u001b[0m\u001b[0m\n\u001b[0;32m----> 2\u001b[0;31m \u001b[0memployee\u001b[0m\u001b[0;34m.\u001b[0m\u001b[0memployeeDetails\u001b[0m\u001b[0;34m(\u001b[0m\u001b[0;34m)\u001b[0m\u001b[0;34m\u001b[0m\u001b[0m\n\u001b[0m",
            "\u001b[0;31mTypeError\u001b[0m: employeeDetails() takes 0 positional arguments but 1 was given"
          ]
        }
      ]
    },
    {
      "metadata": {},
      "cell_type": "markdown",
      "source": "With the Self parameter  \nThe object will pass itself as the first parameter ALWAYS"
    },
    {
      "metadata": {
        "trusted": true
      },
      "cell_type": "code",
      "source": "class Employee:\n    def employeeDetails(self):  # self is used by convention referring to the object itself\n        self.name = \"Paul\"  # Name for the employee that is Instance attribute called name\n        print(\"Name = \", self.name)   # done by calling the object itself (self) followed by dot (.), followed by the name of the instance attribute - self.name =",
      "execution_count": 14,
      "outputs": []
    },
    {
      "metadata": {
        "trusted": true
      },
      "cell_type": "code",
      "source": "employee = Employee()\nemployee.employeeDetails()",
      "execution_count": 15,
      "outputs": [
        {
          "output_type": "stream",
          "text": "Name =  Paul\n",
          "name": "stdout"
        }
      ]
    },
    {
      "metadata": {},
      "cell_type": "markdown",
      "source": "Assigning the self parameter is important for the **life** of the object, the instance attribute will exist."
    },
    {
      "metadata": {
        "trusted": true
      },
      "cell_type": "code",
      "source": "class Employee:\n    def employeeDetails(self):  # self is used by convention referring to the object itself\n        self.name = \"Paul\"  # Name for the employee that is Instance attribute called name\n        print(\"Name = \", self.name) \n        age = 30\n        print(\"Age = \", age)\n    \n    def printEmployeeDetails(self):\n        print(\"Printing Employee Details\")\n        print(\"Name: \", self.name)\n        print(\"Age: \", age)",
      "execution_count": 5,
      "outputs": []
    },
    {
      "metadata": {
        "trusted": true
      },
      "cell_type": "code",
      "source": "employee = Employee()\nprint(employee.employeeDetails())",
      "execution_count": 6,
      "outputs": [
        {
          "output_type": "stream",
          "text": "Name =  Paul\nAge =  30\nNone\n",
          "name": "stdout"
        }
      ]
    },
    {
      "metadata": {
        "trusted": true
      },
      "cell_type": "code",
      "source": "# Leave error - object is not passed when the age is defined\nemployee.printEmployeeDetails()",
      "execution_count": 7,
      "outputs": [
        {
          "output_type": "stream",
          "text": "Printing Employee Details\nName:  Paul\n",
          "name": "stdout"
        },
        {
          "output_type": "error",
          "ename": "NameError",
          "evalue": "name 'age' is not defined",
          "traceback": [
            "\u001b[0;31m---------------------------------------------------------------------------\u001b[0m",
            "\u001b[0;31mNameError\u001b[0m                                 Traceback (most recent call last)",
            "\u001b[0;32m<ipython-input-7-35155064865e>\u001b[0m in \u001b[0;36m<module>\u001b[0;34m\u001b[0m\n\u001b[0;32m----> 1\u001b[0;31m \u001b[0memployee\u001b[0m\u001b[0;34m.\u001b[0m\u001b[0mprintEmployeeDetails\u001b[0m\u001b[0;34m(\u001b[0m\u001b[0;34m)\u001b[0m\u001b[0;34m\u001b[0m\u001b[0m\n\u001b[0m",
            "\u001b[0;32m<ipython-input-5-a30168e6e451>\u001b[0m in \u001b[0;36mprintEmployeeDetails\u001b[0;34m(self)\u001b[0m\n\u001b[1;32m      9\u001b[0m         \u001b[0mprint\u001b[0m\u001b[0;34m(\u001b[0m\u001b[0;34m\"Printing Employee Details\"\u001b[0m\u001b[0;34m)\u001b[0m\u001b[0;34m\u001b[0m\u001b[0m\n\u001b[1;32m     10\u001b[0m         \u001b[0mprint\u001b[0m\u001b[0;34m(\u001b[0m\u001b[0;34m\"Name: \"\u001b[0m\u001b[0;34m,\u001b[0m \u001b[0mself\u001b[0m\u001b[0;34m.\u001b[0m\u001b[0mname\u001b[0m\u001b[0;34m)\u001b[0m\u001b[0;34m\u001b[0m\u001b[0m\n\u001b[0;32m---> 11\u001b[0;31m         \u001b[0mprint\u001b[0m\u001b[0;34m(\u001b[0m\u001b[0;34m\"Age: \"\u001b[0m\u001b[0;34m,\u001b[0m \u001b[0mage\u001b[0m\u001b[0;34m)\u001b[0m\u001b[0;34m\u001b[0m\u001b[0m\n\u001b[0m",
            "\u001b[0;31mNameError\u001b[0m: name 'age' is not defined"
          ]
        }
      ]
    },
    {
      "metadata": {},
      "cell_type": "markdown",
      "source": "# Instance Methods\nInstance Methods are methods of class that **require self parameter** to access and modify the instance attributes of the class  \n* All the methods above are instance methods so far\n"
    },
    {
      "metadata": {
        "trusted": true
      },
      "cell_type": "code",
      "source": "class Employee:\n    def employeeDetails(self):\n        self.name = \"Ben\"\n",
      "execution_count": 12,
      "outputs": []
    },
    {
      "metadata": {
        "trusted": true
      },
      "cell_type": "code",
      "source": "employeeOne = Employee()\nemployeeOne.employeeDetails()\nprint(employeeOne.name)",
      "execution_count": 17,
      "outputs": [
        {
          "output_type": "stream",
          "text": "Ben\n",
          "name": "stdout"
        }
      ]
    },
    {
      "metadata": {},
      "cell_type": "markdown",
      "source": "# Static Methods\nStatic Methods are methods of class that do not require the default self parameter  \nDifferentiate instance method vs static method  \nDecorator - function that takes another function and extends their functionality  \n\n* @staticmethod - ignores the need to bind the object\n```Python\nclass Employee:\n    @staticmethod\n    def welcomeMessage():\n        print(\"Welcome to the org!\")\n```"
    },
    {
      "metadata": {
        "trusted": true
      },
      "cell_type": "code",
      "source": "# Using a static method cannot have self in the method\n\nclass Employee:\n    school = \"Bell Air\" # Class attribute will live in all instances\n    def employeeDetails(self):\n        self.name = \"Ben\"\n    \n    @staticmethod\n    def welcomeMessage():\n        # Cannot call self.name - will throw error\n        print(\"Welcome to the org!\")",
      "execution_count": 16,
      "outputs": []
    },
    {
      "metadata": {
        "trusted": true
      },
      "cell_type": "code",
      "source": "employeeOne = Employee()\nemployeeOne.welcomeMessage()\nemployeeOne.school",
      "execution_count": 18,
      "outputs": [
        {
          "output_type": "stream",
          "text": "Welcome to the org!\n",
          "name": "stdout"
        },
        {
          "output_type": "execute_result",
          "execution_count": 18,
          "data": {
            "text/plain": "'Bell Air'"
          },
          "metadata": {}
        }
      ]
    },
    {
      "metadata": {
        "trusted": true
      },
      "cell_type": "code",
      "source": "employeeTwo = Employee()\nemployeeTwo.school\n",
      "execution_count": 19,
      "outputs": [
        {
          "output_type": "execute_result",
          "execution_count": 19,
          "data": {
            "text/plain": "'Bell Air'"
          },
          "metadata": {}
        }
      ]
    },
    {
      "metadata": {
        "trusted": true
      },
      "cell_type": "code",
      "source": "class Student:\n    def __init__(self, name, school):\n        self.name = name\n        self.school = school\n        self.marks = []\n    \n    def average(self):\n        return sum(self.marks) / len(self.marks)",
      "execution_count": 2,
      "outputs": []
    },
    {
      "metadata": {
        "trusted": true
      },
      "cell_type": "code",
      "source": "helen = Student('Helen', 'Shepton')",
      "execution_count": 3,
      "outputs": []
    },
    {
      "metadata": {
        "trusted": true
      },
      "cell_type": "code",
      "source": "helen.marks.append(34)\nhelen.marks.append(56)",
      "execution_count": 4,
      "outputs": []
    },
    {
      "metadata": {
        "trusted": true
      },
      "cell_type": "code",
      "source": "print(helen.marks)",
      "execution_count": 5,
      "outputs": [
        {
          "output_type": "stream",
          "text": "[34, 56]\n",
          "name": "stdout"
        }
      ]
    },
    {
      "metadata": {
        "trusted": true
      },
      "cell_type": "code",
      "source": "print(helen.average())",
      "execution_count": 6,
      "outputs": [
        {
          "output_type": "stream",
          "text": "45.0\n",
          "name": "stdout"
        }
      ]
    },
    {
      "metadata": {
        "trusted": true
      },
      "cell_type": "code",
      "source": "print(helen.name)",
      "execution_count": 8,
      "outputs": [
        {
          "output_type": "stream",
          "text": "Helen\n",
          "name": "stdout"
        }
      ]
    },
    {
      "metadata": {
        "trusted": true
      },
      "cell_type": "code",
      "source": "# @staticmethod and @classmethod\n# Tell Python no need for self\nclass Student:\n    def __init__(self, x, school):\n        self.name = x\n        self.school = school\n        self.marks = []\n    \n    def average(self):\n        return sum(self.marks) / len(self.marks)\n    \n    def go_to_school(self):\n        print('I\\'m going to school')\n        \n    ",
      "execution_count": 13,
      "outputs": []
    },
    {
      "metadata": {
        "trusted": true
      },
      "cell_type": "code",
      "source": "helen = Student('Helen', 'home')\nhelen.name",
      "execution_count": 14,
      "outputs": [
        {
          "output_type": "execute_result",
          "execution_count": 14,
          "data": {
            "text/plain": "'Helen'"
          },
          "metadata": {}
        }
      ]
    },
    {
      "metadata": {},
      "cell_type": "markdown",
      "source": "# init method\nFully initalize a method  \nFirst method that is being called at time of creation by **default**  \nThat initalizes instance attributes below  \nAll attributes should be initalized in init method. There will be no errors afterwards if attribute is called.\n"
    },
    {
      "metadata": {
        "trusted": true
      },
      "cell_type": "code",
      "source": "class Employee:\n    def enterEmployeeDetails(self):\n        self.name = \"Mark\" # method is initalized with value Mark. will only work for this method.\n    \n    def displayEmployeeDetails(self):\n        print(self.name)",
      "execution_count": 1,
      "outputs": []
    },
    {
      "metadata": {
        "trusted": true
      },
      "cell_type": "code",
      "source": "employee = Employee()\n# Classing the 2nd Method before the 1st Method\nemployee.displayEmployeeDetails() # AttributeError because self.name is not defined or initalized\n\n#Need a mechanism to initalize ALL the attributes or the class before being used",
      "execution_count": 3,
      "outputs": [
        {
          "output_type": "error",
          "ename": "AttributeError",
          "evalue": "'Employee' object has no attribute 'name'",
          "traceback": [
            "\u001b[0;31m---------------------------------------------------------------------------\u001b[0m",
            "\u001b[0;31mAttributeError\u001b[0m                            Traceback (most recent call last)",
            "\u001b[0;32m<ipython-input-3-905f2c1cf998>\u001b[0m in \u001b[0;36m<module>\u001b[0;34m\u001b[0m\n\u001b[1;32m      1\u001b[0m \u001b[0memployee\u001b[0m \u001b[0;34m=\u001b[0m \u001b[0mEmployee\u001b[0m\u001b[0;34m(\u001b[0m\u001b[0;34m)\u001b[0m\u001b[0;34m\u001b[0m\u001b[0m\n\u001b[0;32m----> 2\u001b[0;31m \u001b[0memployee\u001b[0m\u001b[0;34m.\u001b[0m\u001b[0mdisplayEmployeeDetails\u001b[0m\u001b[0;34m(\u001b[0m\u001b[0;34m)\u001b[0m\u001b[0;34m\u001b[0m\u001b[0m\n\u001b[0m",
            "\u001b[0;32m<ipython-input-1-b3679f75e7f5>\u001b[0m in \u001b[0;36mdisplayEmployeeDetails\u001b[0;34m(self)\u001b[0m\n\u001b[1;32m      4\u001b[0m \u001b[0;34m\u001b[0m\u001b[0m\n\u001b[1;32m      5\u001b[0m     \u001b[0;32mdef\u001b[0m \u001b[0mdisplayEmployeeDetails\u001b[0m\u001b[0;34m(\u001b[0m\u001b[0mself\u001b[0m\u001b[0;34m)\u001b[0m\u001b[0;34m:\u001b[0m\u001b[0;34m\u001b[0m\u001b[0m\n\u001b[0;32m----> 6\u001b[0;31m         \u001b[0mprint\u001b[0m\u001b[0;34m(\u001b[0m\u001b[0mself\u001b[0m\u001b[0;34m.\u001b[0m\u001b[0mname\u001b[0m\u001b[0;34m)\u001b[0m\u001b[0;34m\u001b[0m\u001b[0m\n\u001b[0m",
            "\u001b[0;31mAttributeError\u001b[0m: 'Employee' object has no attribute 'name'"
          ]
        }
      ]
    },
    {
      "metadata": {
        "trusted": true
      },
      "cell_type": "code",
      "source": "class Employee:\n    def __init__(self): # iniatlizes the the attribute\n        self.name = \"Mark\"\n        \n    def displayEmployeeDetails(self):\n        print(self.name)",
      "execution_count": 4,
      "outputs": []
    },
    {
      "metadata": {
        "trusted": true
      },
      "cell_type": "code",
      "source": "employee = Employee()\nemployee.displayEmployeeDetails()",
      "execution_count": 6,
      "outputs": [
        {
          "output_type": "stream",
          "text": "Mark\n",
          "name": "stdout"
        }
      ]
    },
    {
      "metadata": {
        "trusted": true
      },
      "cell_type": "code",
      "source": "class Employee:\n    def __init__(self, name): # When declaring a class, will require a string\n        self.name = name  # self.name is the object referring to the parameter. name is the string that will be passed\n    \n    def displayEmployeeDetails(self):\n        print(self.name)",
      "execution_count": 4,
      "outputs": []
    },
    {
      "metadata": {
        "trusted": true
      },
      "cell_type": "code",
      "source": "employeeOne = Employee(\"Mark\")\nemployeeOne.displayEmployeeDetails()\nemployeeTwo = Employee(\"Matthew\")\nemployeeOneeeTwo.displayEmployeeDetails()",
      "execution_count": 5,
      "outputs": [
        {
          "output_type": "stream",
          "text": "Mark\nMatthew\n",
          "name": "stdout"
        }
      ]
    },
    {
      "metadata": {},
      "cell_type": "markdown",
      "source": "# Exercise\nWrite an object oriented program to create a precious stone.  \nNot more than 5 precious stones can be held in possession at a  \ngiven point of time. If there are more than 5 precious stones,  \ndelete the first stone and store the new one."
    },
    {
      "metadata": {
        "trusted": true
      },
      "cell_type": "code",
      "source": "# Exercise - My solution\nclass Stone:\n    def __init__(self, stone):\n        self.stone = stone\n        self.count = 0\n        self.list = []\n    \n    def addStone(self):\n        if self.count <= 5:\n            self.list.append(self.stone)\n            self.count += 1\n            \n    def displayList(self):\n        print(self.list)",
      "execution_count": 10,
      "outputs": []
    },
    {
      "metadata": {
        "trusted": true
      },
      "cell_type": "code",
      "source": "ruby = Stone(\"ruby\")\nruby.addStone()\nruby.displayList()",
      "execution_count": 12,
      "outputs": [
        {
          "output_type": "stream",
          "text": "['ruby']\n",
          "name": "stdout"
        }
      ]
    },
    {
      "metadata": {
        "trusted": true
      },
      "cell_type": "code",
      "source": "# Exercise - Solution\nclass PreciousStone:\n    numberOfPreciousStones = 0\n    preciousStoneCollection = []\n    def __init__(self, name):\n        self.name = name\n        # Increment the number of preciousStones\n        PreciousStone.numberOfPreciousStones += 1\n        # Append the precious stone to the list if total number of stones are less than 5\n        if PreciousStone.numberOfPreciousStones <= 5:\n            PreciousStone.preciousStoneCollection.append(self)\n        else:\n            # If more than 5 stones are present, delete the first one and store the new one\n            del PreciousStone.preciousStoneCollection[0]\n            PreciousStone.preciousStoneCollection.append(self)\n\n    @staticmethod\n    def displayPreciousStones():\n        for preciousStone in PreciousStone.preciousStoneCollection:\n            print(preciousStone.name, end = ' ')\n        print()\n\npreciousStoneOne  = PreciousStone(\"Ruby\")\npreciousStoneTwo  = PreciousStone(\"Emerald\")\npreciousStoneThree  = PreciousStone(\"Sapphire\")\npreciousStoneFour  = PreciousStone(\"Diamond\")\npreciousStoneFive  = PreciousStone(\"Amber\")\npreciousStoneFive.displayPreciousStones()\npreciousStoneSix = PreciousStone(\"Onyx\")\n# Print all the stones after deleting the first stone\npreciousStoneSix.displayPreciousStones()\n",
      "execution_count": 13,
      "outputs": [
        {
          "output_type": "stream",
          "text": "Ruby Emerald Sapphire Diamond Amber \nEmerald Sapphire Diamond Amber Onyx \n",
          "name": "stdout"
        }
      ]
    },
    {
      "metadata": {
        "trusted": true
      },
      "cell_type": "markdown",
      "source": "# Abstraction and Encapsulation\n### 1st Pillar = Abstraction\n### 2nd Pillar = Encapsulation\n#### Real life example: Driving a car and wanting to stop\nAbstraction = applying the breaks  \nEncapsulation = the internal steps that are performed to break the car when the breaks are applied\n\n-------------------------------\n\n#### Programming\nAbstraction = using the list.append(value) method  \nEncapsulation = hiding implementation details from the user that appends the value to the list\n  \nWrite a method for a class that will draw a square and name it drawSquare.  \nAbsstraction => drawSquare method\nEncapsulation => The code that draws the square "
    },
    {
      "metadata": {
        "trusted": true
      },
      "cell_type": "markdown",
      "source": "# Exercise - Abstraction and Encapsulation Problem statement\nImplement a library management system which will handle the following tasks:  \n* Customer should be able to display all the books available in the library\n* Handle the process when a customer requests to borrow a book\n* Update the library collection when the customer returns a book"
    },
    {
      "metadata": {
        "trusted": true
      },
      "cell_type": "code",
      "source": "# class => Library\n# Layers of abstraction => display available books, lend a book, add a book\n\n# class => customer\n# Layers of abstraction => request a book, return a book\n\n# --------------------------------------------------------------\n\nclass Library:\n    # 1st layer of abstraction\n    def displayAvailableBooks(self):\n        pass\n   \n    # 2nd layer of abstraction\n    def lendBook(self):\n        pass\n    \n    # 3rd layer of abstraction\n    def addBook(self):\n        pass\n\nclass Customer:\n    # 1st layer of abstraction\n    def requestBook(self):\n        pass\n    \n    # 1st layer of abstraction\n    def returnBook(self):\n        pass",
      "execution_count": 1,
      "outputs": []
    },
    {
      "metadata": {
        "trusted": true
      },
      "cell_type": "code",
      "source": "# creating objects from class\nlibrary = Library()\ncustomer = Customer()",
      "execution_count": 2,
      "outputs": []
    },
    {
      "metadata": {
        "trusted": true
      },
      "cell_type": "code",
      "source": "# At time of creation, initialize a list of books\n\nclass Library:\n    \n    def __init__(self, listOfBooks):\n        # self.availableBooks variable available to use throughout the class instance\n        self.availableBooks = listOfBooks\n        \n    # 1st layer of abstraction\n    def displayAvailableBooks(self):\n        print(\"Available Books\")\n        for book in self.availableBooks:   # book is considered an instance attribute\n            print(book)\n   \n    # 2nd layer of abstraction\n    def lendBook(self):\n        pass\n    \n    # 3rd layer of abstraction\n    def addBook(self):\n        pass\n\nclass Customer:\n    # 1st layer of abstraction\n    def requestBook(self):\n        pass\n    \n    # 1st layer of abstraction\n    def returnBook(self):\n        pass",
      "execution_count": 2,
      "outputs": []
    },
    {
      "metadata": {
        "trusted": true
      },
      "cell_type": "code",
      "source": "# passing list of books in object on instantiation \nlibrary = Library([\"Think and Grow Rich\", \"Rich Dad, Poor Dad\", \"Millionare Next Door\"])",
      "execution_count": 3,
      "outputs": []
    },
    {
      "metadata": {
        "trusted": true
      },
      "cell_type": "code",
      "source": "library.displayAvailableBooks()",
      "execution_count": 4,
      "outputs": [
        {
          "output_type": "stream",
          "text": "Available Books\nThink and Grow Rich\nRich Dad, Poor Dad\nMillionare Next Door\n",
          "name": "stdout"
        }
      ]
    },
    {
      "metadata": {
        "trusted": true
      },
      "cell_type": "code",
      "source": "# Allow customer to request book and library to lend book\nclass Library:\n    \n    def __init__(self, listOfBooks):\n        # self.availableBooks variable available to use throughout the class instance\n        self.availableBooks = listOfBooks\n        \n    # 1st layer of abstraction\n    def displayAvailableBooks(self):\n        print(\"Available Books\")\n        for book in self.availableBooks:\n            print(book)\n   \n    # 2nd layer of abstraction\n    def lendBook(self, requestedBook):\n        if requestedBook in self.availableBooks:\n            print(\"Borrowed: {}\".format(requestedBook))\n            self.availableBooks.remove(requestedBook)\n        else:\n            print(\"Book not available\")\n    \n    # 3rd layer of abstraction\n    def addBook(self):\n        pass\n\nclass Customer:\n    # 1st layer of abstraction\n    def requestBook(self):\n        print(\"Enter name of book to borrow (Case sensitive)\")  # Book to borrow. Library will check if book is available.\n        self.book = input()\n        return self.book\n    \n    # 1st layer of abstraction\n    def returnBook(self):\n        pass\nlibrary = Library([\"Think and Grow Rich\", \"Rich Dad, Poor Dad\", \"Millionare Next Door\"])\ncustomer = Customer()",
      "execution_count": 15,
      "outputs": []
    },
    {
      "metadata": {
        "trusted": true
      },
      "cell_type": "code",
      "source": "library.displayAvailableBooks()\n",
      "execution_count": 16,
      "outputs": [
        {
          "output_type": "stream",
          "text": "Available Books\nThink and Grow Rich\nRich Dad, Poor Dad\nMillionare Next Door\n",
          "name": "stdout"
        }
      ]
    },
    {
      "metadata": {
        "trusted": true
      },
      "cell_type": "code",
      "source": "customer.requestBook()",
      "execution_count": 17,
      "outputs": [
        {
          "output_type": "stream",
          "text": "Enter name of book to borrow\nThink and Grow rich\n",
          "name": "stdout"
        },
        {
          "output_type": "execute_result",
          "execution_count": 17,
          "data": {
            "text/plain": "'Think and Grow rich'"
          },
          "metadata": {}
        }
      ]
    },
    {
      "metadata": {
        "trusted": true
      },
      "cell_type": "code",
      "source": "requestedBook = customer.requestBook()\nlibrary.lendBook(requestedBook)",
      "execution_count": 20,
      "outputs": [
        {
          "output_type": "stream",
          "text": "Enter name of book to borrow\nMillionare Next Door\nBorrowed: Millionare Next Door\n",
          "name": "stdout"
        }
      ]
    },
    {
      "metadata": {
        "trusted": true
      },
      "cell_type": "code",
      "source": "library.displayAvailableBooks()\n",
      "execution_count": 21,
      "outputs": [
        {
          "output_type": "stream",
          "text": "Available Books\nThink and Grow Rich\nRich Dad, Poor Dad\n",
          "name": "stdout"
        }
      ]
    },
    {
      "metadata": {
        "trusted": true
      },
      "cell_type": "code",
      "source": "# Allow customer to request book and library to lend book. Customer can return book\nclass Library:\n    \n    def __init__(self, listOfBooks): # a list of books is required when creating the object\n        # self.availableBooks variable available to use throughout the class instance\n        self.availableBooks = listOfBooks\n        \n    # 1st layer of abstraction\n    def displayAvailableBooks(self):\n        print(\"Available Books:\")\n        for book in self.availableBooks:\n            print(book)\n   \n    # 2nd layer of abstraction\n    def lendBook(self, requestedBook):\n        if requestedBook in self.availableBooks:\n            print(\"Borrowed: {}\".format(requestedBook))\n            self.availableBooks.remove(requestedBook)\n        else:\n            print(\"Book not available\")\n    \n    # 3rd layer of abstraction - Add book back to list\n    def addBook(self, returnBook):\n        self.availableBooks.append(returnBook)\n        print(\"Returned the book\")\n\nclass Customer:\n    # 1st layer of abstraction - All the customer to request a book\n    def requestBook(self):\n        print(\"Enter name of book to borrow (Case sensitive)\")  # Book to borrow. Library will check if book is available.\n        self.book = input()\n        return self.book\n    \n    # 2nd layer of abstraction - All the customer to enter the book they are returning\n    def returnBook(self):\n        print(\"Enter the name of the book returning: \")\n        self.book = input()\n        return self.book\n    \nlibrary = Library([\"Think and Grow Rich\", \"Rich Dad, Poor Dad\", \"Millionare Next Door\"])\ncustomer = Customer()",
      "execution_count": 29,
      "outputs": []
    },
    {
      "metadata": {
        "trusted": true
      },
      "cell_type": "code",
      "source": "library.displayAvailableBooks()\n",
      "execution_count": 30,
      "outputs": [
        {
          "output_type": "stream",
          "text": "Available Books:\nThink and Grow Rich\nRich Dad, Poor Dad\nMillionare Next Door\n",
          "name": "stdout"
        }
      ]
    },
    {
      "metadata": {
        "trusted": true
      },
      "cell_type": "code",
      "source": "requestedBook = customer.requestBook()\nlibrary.lendBook(requestedBook)",
      "execution_count": 31,
      "outputs": [
        {
          "output_type": "stream",
          "text": "Enter name of book to borrow (Case sensitive)\nThink and Grow Rich\nBorrowed: Think and Grow Rich\n",
          "name": "stdout"
        }
      ]
    },
    {
      "metadata": {
        "trusted": true
      },
      "cell_type": "code",
      "source": "library.displayAvailableBooks()\n",
      "execution_count": 32,
      "outputs": [
        {
          "output_type": "stream",
          "text": "Available Books:\nRich Dad, Poor Dad\nMillionare Next Door\n",
          "name": "stdout"
        }
      ]
    },
    {
      "metadata": {
        "trusted": true
      },
      "cell_type": "markdown",
      "source": "# Inheritance - 3rd Pillar of OOP\n\ninheriting certain attributes and features\nBase class (Parents class)\nDerived class (child class)\n\n* single\n* multiple - expands width wise\n* multi-level - expands height wise"
    },
    {
      "metadata": {
        "trusted": true
      },
      "cell_type": "code",
      "source": "# Single Level Inheritance - 2 Classes with attributes and methods\nclass Google: # Base class\n    # This is the parent attribute area (3)\n    manufacturer = \"Google Inc.\"\n    contactWebsite = \"www.google.com/contact\"\n    \n    def contactDetails(self):\n        print(\"To contact us, log on to \", self.contactWebsite)\n\nclass PixelBook(Google): # Derived class\n    def __init__(self):\n        self.yearOfManufacture = 2018\n        # This is the class attribute area (2)\n    \n    def manufactureDetails(self):\n        # This is the instance attribute area (1)\n        print(\"This PixelBook was manufacture in the year {} by {}\".format(self.yearOfManufacture, self.manufacturer))\n        # self.manufacturer order of attribute checks in python - instanace attribute(1), class attribute(2), parent attribute(3)\n        # self.manufacturer = parent attribute",
      "execution_count": 4,
      "outputs": []
    },
    {
      "metadata": {
        "trusted": true
      },
      "cell_type": "code",
      "source": "newPixelbook = PixelBook()",
      "execution_count": 5,
      "outputs": []
    },
    {
      "metadata": {
        "trusted": true
      },
      "cell_type": "code",
      "source": "newPixelbook.manufactureDetails()\nnewPixelbook.contactDetails()",
      "execution_count": 6,
      "outputs": [
        {
          "output_type": "stream",
          "text": "This PixelBook was manufacture in the year 2018 by Google Inc.\nTo contact us, log on to  www.google.com/contact\n",
          "name": "stdout"
        }
      ]
    },
    {
      "metadata": {},
      "cell_type": "markdown",
      "source": "# Multiple Inheritance\nInherit baseball skills from dad and cooking skills from mom  \n* Derived class can inherit more than 1 base class\n* Attributes with the same name will take the base order of parameters"
    },
    {
      "metadata": {
        "trusted": true
      },
      "cell_type": "code",
      "source": "class OperatingSystem:\n    multitasking = True\n\nclass ChromeOS:\n    website = \"www.google.com\"\n\n# Derived class has all attributes from both base classes\nclass PixelBook(OperatingSystem, ChromeOS):\n    def __init__(self):\n        # self.multitasking is attribute taken from Operating System class\n        if self.multitasking is True:\n            print(\"This is a multi tasking system. Visit {} for more details\".format(self.website))\n",
      "execution_count": 1,
      "outputs": []
    },
    {
      "metadata": {
        "trusted": true
      },
      "cell_type": "code",
      "source": "pixel1 = PixelBook()",
      "execution_count": 2,
      "outputs": [
        {
          "output_type": "stream",
          "text": "This is a multi tasking system. Visit www.google.com for more details\n",
          "name": "stdout"
        }
      ]
    },
    {
      "metadata": {
        "trusted": true
      },
      "cell_type": "code",
      "source": "# If both base class common attribute, the derived class will follow the order of the base when created\nclass OperatingSystem:\n    multitasking = True\n    name = \"ChromeOS\"\n    \nclass ChromeOS:\n    website = \"www.google.com\"\n    name = \"Google\"\n\n# Derived class has all attributes from both base classes\nclass PixelBook(OperatingSystem, ChromeOS): # <---- Order matters when there are attributes with the same name\n    def __init__(self):\n        # self.multitasking is attribute taken from Operating System class\n        if self.multitasking is True:\n            print(\"This is a multi tasking system. Visit {} for more details\".format(self.website))\n            # self.name will be from OperatingSystem base class\n            print(\"Name: \", self.name)\n            ",
      "execution_count": 4,
      "outputs": []
    },
    {
      "metadata": {
        "trusted": true
      },
      "cell_type": "code",
      "source": "pixel2 = PixelBook()",
      "execution_count": 5,
      "outputs": [
        {
          "output_type": "stream",
          "text": "This is a multi tasking system. Visit www.google.com for more details\nName:  ChromeOS\n",
          "name": "stdout"
        }
      ]
    },
    {
      "metadata": {},
      "cell_type": "markdown",
      "source": "# Multi-Level Inheritance\nA series of inheritance  \n* A base class level\n* Class at second level inherits from base class\n* Class at third level inherits from second level which inherits at base level - attributes and methods"
    },
    {
      "metadata": {
        "trusted": true
      },
      "cell_type": "code",
      "source": "class MusicalInstruments:\n    numberOfMajorKeys = 12\n\n# String instruments\nclass StringInstruments(MusicalInstruments):\n    typeOfWood = \"ToneWood\"\n\n# Sub-set of string class\nclass Guitar(StringInstruments):\n    def __init__(self):\n        self.numberOfStrings = 6\n        print(\"This guitar consits of {} strings. It is made of {} and it can play {} keys\".format(self.numberOfStrings, self.typeOfWood, self.numberOfMajorKeys))\n        \n\nguitar = Guitar()\n",
      "execution_count": 4,
      "outputs": [
        {
          "output_type": "stream",
          "text": "This guitar consits of 6 strings. It is made of ToneWood and it can play 12 keys\n",
          "name": "stdout"
        }
      ]
    },
    {
      "metadata": {},
      "cell_type": "markdown",
      "source": "# Public, Protected, Private\n__Access Specifiers__  \n* Public - everyone can view\n* Protected - only class and defined classes can view\n* Private - only specific class can view\n\nmemberName == attributes and methods of the class"
    },
    {
      "metadata": {},
      "cell_type": "markdown",
      "source": "# Naming conventions\nAttributes and methods of the class\n* Public => memberName \n  * Class has always been the same name\n* Protected => _memberName\n  * Only within class and derived class\n* Private => class only\n\n__Name Mangling__: declaring an attribute with __ double underscore, it should be paired with single underscore and class name _Classname  \n* _Car__year"
    },
    {
      "metadata": {},
      "cell_type": "markdown",
      "source": "## Visibility\n### Public => memberName\n\n### Protect => _memberName\n    Only within class and derived class\n\n\n### Private => __memeberName\n    Only within class\n"
    },
    {
      "metadata": {
        "trusted": true
      },
      "cell_type": "code",
      "source": "class Car:\n    # Public Attribute\n    numberOfWheels = 4\n\n# Create object\ncar = Car()\nprint(\"Public Attribute numberOfWheels: \", car.numberOfWheels)",
      "execution_count": 1,
      "outputs": [
        {
          "output_type": "stream",
          "text": "Public Attribute numberOfWheels:  4\n",
          "name": "stdout"
        }
      ]
    },
    {
      "metadata": {
        "trusted": true
      },
      "cell_type": "code",
      "source": "class Car:\n    # Public Attribute\n    numberOfWheels = 4\n    # Protected Attribute\n    _color = \"Black\"\n\nclass BMW(Car):\n    def __init__(self):\n        print(\"Protected attribute color: \", self._color) # Inherits the self._color\n\n# Create object\ncar = Car()\nprint(\"Public Attribute numberOfWheels: \", car.numberOfWheels)\nBMW = BMW()",
      "execution_count": 3,
      "outputs": [
        {
          "output_type": "stream",
          "text": "Public Attribute numberOfWheels:  4\nProtected attribute color:  Black\n",
          "name": "stdout"
        }
      ]
    },
    {
      "metadata": {
        "trusted": true
      },
      "cell_type": "code",
      "source": "class Car:\n    # Public Attribute\n    numberOfWheels = 4\n    # Protected Attribute\n    _color = \"Black\"\n    #Private Attribute\n    __year = 2019 # Name manguling - Internal Python stores it as _Car__year\n\nclass BMW(Car):\n    def __init__(self):\n        print(\"Protected attribute color: \", self._color)\n        \ncar = Car()\nprint(\"Public Attribute numberOfWheels: \", car.numberOfWheels)\nBMW = BMW()\n\n# print(\"Year of manufacturer: \", car.__year) # NOT WORKING\nprint(\"Year of manufacturer: \", car._Car__year) # Will work - calls on the year of attribute that is set to private\n    # Don't do this unless you need to really call the private attribute\n",
      "execution_count": 7,
      "outputs": [
        {
          "output_type": "stream",
          "text": "Public Attribute numberOfWheels:  4\nProtected attribute color:  Black\nYear of manufacturer:  2019\n",
          "name": "stdout"
        }
      ]
    },
    {
      "metadata": {
        "trusted": true
      },
      "cell_type": "markdown",
      "source": "# Polymorphanism - 4th Pillar of OOP\nCharactertistic of an entity to be able to present in more than 1 form  \n**What is Polymorphism :** The word polymorphism means having many forms. In programming, polymorphism means same function name (but different signatures) being uses for different types.\n\nEx.  Identical Twins - they LOOK the same. DO NOT ACT THE SAME\n\nPolymorphic property of overriding  \nSon plays baseball - the sport that dad played. Son might not play baseball with the same style.\n\nDerived class inherits methods from base class. But then it might not behave the same as the base class. Derived class re-defines the method."
    },
    {
      "metadata": {
        "trusted": true
      },
      "cell_type": "code",
      "source": "# Overriding - Inital class\nclass Employee:\n    # Intitial working hours\n    def setNumberOfWorkingHours(self):\n        self.numberOfWorkingHours = 40\n        \n    def displayNumberOfWorkingHours(self):\n        print(self.numberOfWorkingHours)\n\nemployee = Employee()\nemployee.setNumberOfWorkingHours()\nprint(\"Number of working hours of employee: \", end = ' ') # end is Python3.x. 'end' appends 2 lines instead of creating a newline\nemployee.displayNumberOfWorkingHours()",
      "execution_count": 2,
      "outputs": [
        {
          "output_type": "stream",
          "text": "Number of working hours of employee:  40\n",
          "name": "stdout"
        }
      ]
    },
    {
      "metadata": {
        "trusted": true
      },
      "cell_type": "code",
      "source": "# Overriding - derived class overrides\nclass Employee:\n    # Intitial working hours\n    def setNumberOfWorkingHours(self):\n        self.numberOfWorkingHours = 40\n        \n    def displayNumberOfWorkingHours(self):\n        print(self.numberOfWorkingHours)\n\n####---------------------------------------------####\n# Trainee class inherits all attributes and methods from Employee class\nclass Trainee(Employee):\n    # Set number of working hours to 45 - not 40 - need to override\n    def setNumberOfWorkingHours(self): # Re-defined (overriding base method)\n        self.numberOfWorkingHours = 45\n\n\nemployee = Employee()\nemployee.setNumberOfWorkingHours()\nprint(\"Number of working hours of employee: \", end = ' ') # end is Python3.x. 'end' appends 2 lines instead of creating a newline\nemployee.displayNumberOfWorkingHours()\n\ntrainee = Trainee()\ntrainee.setNumberOfWorkingHours()\nprint(\"Number of working hours of trainee: \", end = ' ') # end is Python3.x. 'end' appends 2 lines instead of creating a newline\ntrainee.displayNumberOfWorkingHours()",
      "execution_count": 3,
      "outputs": [
        {
          "output_type": "stream",
          "text": "Number of working hours of employee:  40\nNumber of working hours of trainee:  45\n",
          "name": "stdout"
        }
      ]
    },
    {
      "metadata": {
        "trusted": true
      },
      "cell_type": "code",
      "source": "# Overriding - Calling the super method to class a base class method\nclass Employee:\n    # Intitial working hours\n    def setNumberOfWorkingHours(self):\n        self.numberOfWorkingHours = 40\n        \n    def displayNumberOfWorkingHours(self):\n        print(self.numberOfWorkingHours)\n\n\n# Trainee class inherits all attributes and methods from Employee class\nclass Trainee(Employee):\n    # Set number of working hours to 45 - not 40 - need to override\n    def setNumberOfWorkingHours(self): # Re-defined (overriding base method)\n        self.numberOfWorkingHours = 45\n\n    ####---------------------------------------------####\n    # Call on the base class method with the super() method\n    def resetNumberOfWorkingHours(self):\n        super().setNumberOfWorkingHours()\n\nemployee = Employee()\nemployee.setNumberOfWorkingHours()\nprint(\"Number of working hours of employee: \", end = ' ') # end is Python3.x. 'end' appends 2 lines instead of creating a newline\nemployee.displayNumberOfWorkingHours()\n\ntrainee = Trainee()\ntrainee.setNumberOfWorkingHours()\nprint(\"Number of working hours of trainee: \", end = ' ') # end is Python3.x. 'end' appends 2 lines instead of creating a newline\ntrainee.displayNumberOfWorkingHours()\ntrainee.resetNumberOfWorkingHours()\nprint(\"Number of new working hours of trainee: \", end = ' ') # end is Python3.x. 'end' appends 2 lines instead of creating a newline\ntrainee.displayNumberOfWorkingHours()",
      "execution_count": 1,
      "outputs": [
        {
          "output_type": "stream",
          "text": "Number of working hours of employee:  40\nNumber of working hours of trainee:  45\nNumber of new working hours of trainee:  40\n",
          "name": "stdout"
        }
      ]
    },
    {
      "metadata": {},
      "cell_type": "markdown",
      "source": "# Diamond Shape problem with Multiple inheritance\n**{Class A}**  - Base class   \n**{Class B}** and **{Class C}** - Derived class of Class A  \n**{Class D}** - Derived class of Class B and Class C\n        "
    },
    {
      "metadata": {
        "trusted": true
      },
      "cell_type": "code",
      "source": "class A:\n    pass\n\nclass B(A):\n    pass\n\nclass C(A):\n    pass\n\nclass D(B,C):\n    pass",
      "execution_count": 1,
      "outputs": []
    },
    {
      "metadata": {
        "trusted": true
      },
      "cell_type": "code",
      "source": "# Class d that has all attributes and methods from A, B, C\nd = D()",
      "execution_count": null,
      "outputs": []
    },
    {
      "metadata": {
        "trusted": true
      },
      "cell_type": "code",
      "source": "class A:\n    @staticmethod\n    def method():\n        print(\"This method belongs to class A\")\n\nclass B(A):\n    pass\n\nclass C(A):\n    pass\n\nclass D(B,C):\n    pass",
      "execution_count": 9,
      "outputs": []
    },
    {
      "metadata": {
        "trusted": true
      },
      "cell_type": "code",
      "source": "d = D()\nd.method()",
      "execution_count": 10,
      "outputs": [
        {
          "output_type": "stream",
          "text": "This method belongs to class A\n",
          "name": "stdout"
        }
      ]
    },
    {
      "metadata": {
        "trusted": true
      },
      "cell_type": "code",
      "source": "# Class B overrides Class A with the method\nclass A:\n    @staticmethod\n    def method():\n        print(\"This method belongs to class A\")\n\n# Anytime a method is overwritten, it will be class from the derived class\nclass B(A):\n    @staticmethod\n    def method():\n        print(\"This method belongs to class B\")\n\nclass C(A):\n    pass\n\nclass D(B,C):\n    pass",
      "execution_count": 11,
      "outputs": []
    },
    {
      "metadata": {
        "trusted": true
      },
      "cell_type": "code",
      "source": "d = D()\nd.method()",
      "execution_count": 12,
      "outputs": [
        {
          "output_type": "stream",
          "text": "This method belongs to class B\n",
          "name": "stdout"
        }
      ]
    },
    {
      "metadata": {
        "trusted": true
      },
      "cell_type": "code",
      "source": "# Class C overrides Class A with the method\nclass A:\n    @staticmethod\n    def method():\n        print(\"This method belongs to class A\")\n\n# Anytime a method is overwritten, it will be class from the derived class\nclass B(A):\n    pass\n\nclass C(A):\n    @staticmethod\n    def method():\n        print(\"This method belongs to class C\")\n\nclass D(B,C):\n    pass",
      "execution_count": 13,
      "outputs": []
    },
    {
      "metadata": {
        "trusted": true
      },
      "cell_type": "code",
      "source": "d = D()\nd.method()",
      "execution_count": 14,
      "outputs": [
        {
          "output_type": "stream",
          "text": "This method belongs to class C\n",
          "name": "stdout"
        }
      ]
    },
    {
      "metadata": {},
      "cell_type": "markdown",
      "source": "# Method Resolution Order\nWhen 2 class are inherited into a derived class, there is an order of which the class will take"
    },
    {
      "metadata": {
        "trusted": true
      },
      "cell_type": "code",
      "source": "# Methods to override Class A are in both B and C - Which one does Python display?\n# Class B and Class C overrides Class A with the method\nclass A:\n    @staticmethod\n    def method():\n        print(\"This method belongs to class A\")\n\n# Anytime a method is overwritten, it will be class from the derived class\nclass B(A):\n    @staticmethod\n    def method():\n        print(\"This method belongs to class B\")\n\nclass C(A):\n    @staticmethod\n    def method():\n        print(\"This method belongs to class C\")\n\nclass D(B,C):\n    pass",
      "execution_count": 15,
      "outputs": []
    },
    {
      "metadata": {
        "trusted": true
      },
      "cell_type": "code",
      "source": "# Displays Class B because of order\n# class D has B as the first inheritance\nd = D()\nd.method()",
      "execution_count": 16,
      "outputs": [
        {
          "output_type": "stream",
          "text": "This method belongs to class B\n",
          "name": "stdout"
        }
      ]
    },
    {
      "metadata": {
        "trusted": true
      },
      "cell_type": "code",
      "source": "# Methods to override Class A are in both B and C - Which one does Python display?\n# Class C and Class B overrides Class A with the method\nclass A:\n    @staticmethod\n    def method():\n        print(\"This method belongs to class A\")\n\n# Anytime a method is overwritten, it will be class from the derived class\nclass B(A):\n    @staticmethod\n    def method():\n        print(\"This method belongs to class B\")\n\nclass C(A):\n    @staticmethod\n    def method():\n        print(\"This method belongs to class C\")\n\nclass D(C,B):\n    pass",
      "execution_count": 17,
      "outputs": []
    },
    {
      "metadata": {
        "trusted": true
      },
      "cell_type": "code",
      "source": "d = D()\nd.method()",
      "execution_count": 18,
      "outputs": [
        {
          "output_type": "stream",
          "text": "This method belongs to class C\n",
          "name": "stdout"
        }
      ]
    },
    {
      "metadata": {},
      "cell_type": "markdown",
      "source": "# The best way to avoid the confusion of Method Resolution Order is to **NOT** use it."
    },
    {
      "metadata": {
        "trusted": true
      },
      "cell_type": "markdown",
      "source": "# Polymorphic Property Overload an Operator\nOverloading the addition operator  \nThe addition operator behaves differently in different environments  \nInteger class has a add class = adding integers  \nString class has a add class = concatenate  \n\n\nWriting own custom add methods = overload addition operator"
    },
    {
      "metadata": {
        "trusted": true
      },
      "cell_type": "code",
      "source": "# Currently Python will understand\n# Class of Square\nclass Square:\n    def __init__(self, side):\n        self.side = side\nsquareOne = Square(5) # 5 * 4 = 20\nsquareTwo = Square(10) # 10 * 4 = 40\n\n# Mechanism to add squareOne and squareTwo to make 60\n# Expected value should be 60\nprint(\"Sum of sides of both the squares = \", squareOne + squareTwo)\n\n# Error is the + operator does not know how to handle the numbers",
      "execution_count": 1,
      "outputs": [
        {
          "output_type": "error",
          "ename": "TypeError",
          "evalue": "unsupported operand type(s) for +: 'Square' and 'Square'",
          "traceback": [
            "\u001b[0;31m---------------------------------------------------------------------------\u001b[0m",
            "\u001b[0;31mTypeError\u001b[0m                                 Traceback (most recent call last)",
            "\u001b[0;32m<ipython-input-1-fd0df89a4a5e>\u001b[0m in \u001b[0;36m<module>\u001b[0;34m\u001b[0m\n\u001b[1;32m      8\u001b[0m \u001b[0;31m# Mechanism to add squareOne and squareTwo to make 60\u001b[0m\u001b[0;34m\u001b[0m\u001b[0;34m\u001b[0m\u001b[0m\n\u001b[1;32m      9\u001b[0m \u001b[0;31m# Expected value\u001b[0m\u001b[0;34m\u001b[0m\u001b[0;34m\u001b[0m\u001b[0m\n\u001b[0;32m---> 10\u001b[0;31m \u001b[0mprint\u001b[0m\u001b[0;34m(\u001b[0m\u001b[0;34m\"Sum of sides of both the squares = \"\u001b[0m\u001b[0;34m,\u001b[0m \u001b[0msquareOne\u001b[0m \u001b[0;34m+\u001b[0m \u001b[0msquareTwo\u001b[0m\u001b[0;34m)\u001b[0m\u001b[0;34m\u001b[0m\u001b[0m\n\u001b[0m",
            "\u001b[0;31mTypeError\u001b[0m: unsupported operand type(s) for +: 'Square' and 'Square'"
          ]
        }
      ]
    },
    {
      "metadata": {
        "trusted": true
      },
      "cell_type": "code",
      "source": "# Overloading the addition operator\n# Class of Square\nclass Square:\n    def __init__(self, side):\n        self.side = side\n\n    ####---------------------------------------------####\n    # Special method begins with dunder\n    def __add__(squareOne, squareTwo):\n        return((4 * squareOne.side) + (4 * squareTwo.side))\n    \n    \nsquareOne = Square(5) # 5 * 4 = 20\nsquareTwo = Square(10) # 10 * 4 = 40\n\n# Mechanism to add squareOne and squareTwo to make 60\n# Expected value should be 60\nprint(\"Sum of sides of both the squares = \", squareOne + squareTwo)",
      "execution_count": 4,
      "outputs": [
        {
          "output_type": "stream",
          "text": "Sum of sides of both the squares =  60\n",
          "name": "stdout"
        }
      ]
    },
    {
      "metadata": {
        "trusted": true
      },
      "cell_type": "markdown",
      "source": "# Abstract Base Class (ABC)\nex. wrote a program to compute the area of shapes such as shapes and rectangles"
    },
    {
      "metadata": {
        "trusted": true
      },
      "cell_type": "code",
      "source": "# Class called square\nclass Square:\n    side = 4\n    def area(self):\n        print(self.side * self.side)",
      "execution_count": 1,
      "outputs": []
    },
    {
      "metadata": {
        "trusted": true
      },
      "cell_type": "code",
      "source": "# Class called Rectangle\nclass Rectangle:\n    width = 5\n    length = 10\n    def area(self):\n        print(\"Area of rectangle: \", self.width * self.length)",
      "execution_count": 4,
      "outputs": []
    },
    {
      "metadata": {
        "trusted": true
      },
      "cell_type": "code",
      "source": "sqaure = Square()",
      "execution_count": 5,
      "outputs": []
    },
    {
      "metadata": {
        "trusted": true
      },
      "cell_type": "code",
      "source": "rectangle = Rectangle()",
      "execution_count": 6,
      "outputs": []
    },
    {
      "metadata": {},
      "cell_type": "markdown",
      "source": "# Banking System\n* Give a prompt to the user asking if they wish to create a new Savings Account or access an existing one\n* If the user would like to create a new account, accept their name and initial deposit, and create a 5 digit random number and make it as the account number of their new Savings Account\n* If they are accessing an existing account, accept their name and account number to validate the user, and give them options to withdraw, deposit or display their available balance\n\n"
    },
    {
      "metadata": {
        "trusted": true
      },
      "cell_type": "code",
      "source": "# Savings account class\nclass SavingsAccount:\n    def __init__(self):\n        self.savingsAccounts = {}\n    \n    # Create new account\n    def createAccount(self, name, initialDeposit):\n        pass\n    # Authentication\n    def authenticate(self, name, accountNumber):\n        pass\n    # Withdraw\n    def withdrawalAmount(self, withdrawalAmount):",
      "execution_count": 1,
      "outputs": [
        {
          "output_type": "stream",
          "name": "stdout",
          "text": "Enter name or q to quitq\n"
        }
      ]
    },
    {
      "metadata": {
        "trusted": true
      },
      "cell_type": "code",
      "source": "",
      "execution_count": null,
      "outputs": []
    }
  ],
  "metadata": {
    "kernelspec": {
      "name": "python36",
      "display_name": "Python 3.6",
      "language": "python"
    },
    "language_info": {
      "mimetype": "text/x-python",
      "nbconvert_exporter": "python",
      "name": "python",
      "pygments_lexer": "ipython3",
      "version": "3.6.6",
      "file_extension": ".py",
      "codemirror_mode": {
        "version": 3,
        "name": "ipython"
      }
    }
  },
  "nbformat": 4,
  "nbformat_minor": 2
}