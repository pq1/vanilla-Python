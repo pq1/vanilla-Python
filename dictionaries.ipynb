{
  "cells": [
    {
      "metadata": {},
      "cell_type": "markdown",
      "source": "Dictionaries are a series of key value pairs\nVariable that declares a dictionary is singular (not plural)\n\nDictionaries are created with squiggly brackets { }\n    Or use the dict() method\n    Keys: value\n    Keys = can be integers or strings\n\n```Python\nthisdict = {\n  \"apple\": \"green\",\n  \"banana\": \"yellow\",\n  \"cherry\": \"red\"\n}\n```\nAccess dictionaries through the key\n ```thisdict['apple']```\n\nKeys can be integers\nWhen defining dictionary with more than 2 or 3 key-value pairs - good idea to break the pairs into separate lines for readability\n"
    },
    {
      "metadata": {
        "collapsed": true
      },
      "cell_type": "markdown",
      "source": "**Loop through dictionary values**\n```Python\nfor customer in customers.values():\n    print( customer)\n```\n\n**remove a key**\n```Python\nfor x in a_list.keys():\n    if x == \"curse\":\n        del a_list[x]\n\t\tbreak\n```\n\n**Append key and value from dict_1 to dict_2**\n```Python dict_2 ={ }\n for x in dict_1.keys():\n\t dict_2[x] = dict_1[x]\n```\nLooping through key-value pairs - .items() \n```Python\nfor each_key, each_value in customers.items():\n\t print(\"Customer key + each_key is each_value\")\n```\t\n-------------------------------------------------------------------------\nCalling items in list of dictionaries\nList of Dictionaries\ncustomers = [\n  {\n    \"Name\": \"Philip\",\n    \"CustomerID\": 1,\n    \"Order\": 5789,\n  },\n  {\n    \"Name\": \"Dylan\",\n    \"CustomerID\": 2,\n    \"Order\": 2305,\n  },\n]\n\n\tTo call a dictionary from list\n\t x = customers[0]\n\n\tTo call name from dictionary\n\t name = x[\"Name\"]\n\n-------------------------------------------------------------------------\nAppending to customers dictionary list\nGet the input somehow and store into variables\n new_customer_name = \"Harry\"\n new_customer_ID = len(customers)\n new_order = 2013\n\nCreate the new dictionary\n new_dictionary = {\n\t\"Name\" : new_customer_name,\n\t\"CustomerID\" : new_customer_ID,\n\t\"Order\": new_order,\n}\n\nAppend to existing list dictionary\n customers.append(new_dictionary)\n\n\n-------------------------------------------------------------------------\nAccessing dictionary of lists\ncustomers = [\n  {\n    \"Name\": \"Philip\",\n    \"CustomerID\": 1,\n    \"Order\": 5789,\n\t\"discounts\": [\"loyalty\", \"brother-in-law\", \"standard\", \"volume\"],\n  },\n  {\n    \"Name\": \"Dylan\",\n    \"CustomerID\": 2,\n    \"Order\": 2305,\n\t\"discounts\": [\"loyalty\", \"brother-in-law\", \"standard\", \"volume\"],\n  },\n]\n\n\n if \"loyalty\" in customers[\"discounts\"]:\n print(\"yes\")"
    },
    {
      "metadata": {
        "trusted": true
      },
      "cell_type": "code",
      "source": "# Empty dictionary\na_dict = {}\na_list = []\ndict_1 = {'first_name': 'b', 'last_name': 'a', 'incident': 'c'}\ndict_2 = {'first_name': 'x', 'last_name': 'y', 'incident': 'z'}\n# append key\na_list.append(dict_1)\na_list.append(dict_2)\n\n",
      "execution_count": 14,
      "outputs": []
    },
    {
      "metadata": {
        "trusted": true
      },
      "cell_type": "code",
      "source": "\nfor list in a_list:\n    print(list['first_name'])",
      "execution_count": 15,
      "outputs": [
        {
          "output_type": "stream",
          "text": "b\nx\n",
          "name": "stdout"
        }
      ]
    },
    {
      "metadata": {
        "trusted": true
      },
      "cell_type": "code",
      "source": "print('****************\\nIncident#: {key} \\nInput By: {value}\\n****************')",
      "execution_count": 33,
      "outputs": [
        {
          "output_type": "stream",
          "text": "****************\nIncident#: {key} \nInput By: {value}\n****************\n",
          "name": "stdout"
        }
      ]
    },
    {
      "metadata": {
        "trusted": true
      },
      "cell_type": "code",
      "source": "def email_list(list):\n    # LOOP THROUGH THE DICTIONARY\n    content = ''\n    for key in list:\n        print(key['first_name'])\n        print(key['last_name'])\n        print(key['incident'])\n        content += ('****************\\nIncident#: {key1} \\nInput By: {key2} {key3}\\n****************\\n'.format(\n            key1=key['first_name'], key2=key['last_name'], key3=key['incident']))\n    print(content)\nemail_list(a_list)",
      "execution_count": 18,
      "outputs": [
        {
          "output_type": "stream",
          "text": "b\na\nc\nx\ny\nz\n****************\nIncident#: b \nInput By: a c\n****************\n****************\nIncident#: x \nInput By: y z\n****************\n\n",
          "name": "stdout"
        }
      ]
    },
    {
      "metadata": {
        "trusted": true
      },
      "cell_type": "code",
      "source": "\ndef email_dict(dict):\n    # LOOP THROUGH THE DICTIONARY\n    content = ''\n    for key_1, value in a_dict.items():\n        for key2, value2 in value.items():\n            print(key_1, key2, value2)\n            content += ('****************\\nIncident#: {key}\\nInput By: {key2} {value2}\\n****************\\n'.format(key=key_1, key2=key2, value2=value2))\n    print(content)\nemail_dict(a_dict)",
      "execution_count": 45,
      "outputs": [
        {
          "output_type": "stream",
          "text": "1 a b\n2 c d\n****************\nIncident#: 1\nInput By: a b\n****************\n****************\nIncident#: 2\nInput By: c d\n****************\n\n",
          "name": "stdout"
        }
      ]
    },
    {
      "metadata": {
        "trusted": true
      },
      "cell_type": "code",
      "source": "print(email_dict)",
      "execution_count": 19,
      "outputs": [
        {
          "output_type": "stream",
          "text": "<function email_dict at 0x7fb937d33048>\n",
          "name": "stdout"
        }
      ]
    },
    {
      "metadata": {
        "trusted": true
      },
      "cell_type": "code",
      "source": "string = ''\nstring += 'hello'\n\nprint(string)",
      "execution_count": 36,
      "outputs": [
        {
          "output_type": "stream",
          "text": "hello\n",
          "name": "stdout"
        }
      ]
    },
    {
      "metadata": {
        "trusted": true
      },
      "cell_type": "code",
      "source": "import arcpy\nimport os\nfrom datetime import date\nimport smtplib\nfrom email.mime.multipart import MIMEMultipart\nfrom email.mime.text import MIMEText\nimport logging\n\ndef email_group(a_list):\n    fromaddr = 'IT-GIS@ntta.org'  # This only shows who the email is from\n    # CAN ONLY BE INTERNAL NTTA\n    toaddr = ['pquach@ntta.org']\n    content = 'INCIDENTS GENERATED INFORMATION\\n'\n    for names in a_list:\n        content += '****************\\nIncident#: {incident}\\nInput By: {last_edited_user}\\n' \\\n                   'Input on: {last_edited_date}\\n****************'.format(\n                    incident=names['incident'], last_edited_user=names['last_edited_user'], last_edited_date=names['last_edited_date'])\n\n    print(content)\n    msg = MIMEMultipart()\n    msg['From'] = fromaddr\n    msg['To'] = ','.join(toaddr)\n    msg['Subject'] = '[AUTO GENERATED EMAIL GROUP]'\n    msg.attach(MIMEText(content))\n\n    try:\n        server = smtplib.SMTP('mailrelay.ntta.local', 25)\n        server.ehlo()\n        server.starttls()\n        server.ehlo()\n\n        text = msg.as_string()\n        # Email sent would include all incident numbers\n        server.sendmail(fromaddr, toaddr, text)\n    except Exception as e:\n        # Log the error here instead of print\n        print(e)\n\n    finally:\n        server.quit()\n\ndef email_editor(incident, last_edited_user, last_edited_date):\n    fromaddr = 'IT-GIS@ntta.org'    # This only shows who the email is from\n    toaddr = [last_edited_user + '@ntta.org']    # CAN ONLY BE INTERNAL NTTA. Add a comma and more emails\n    content = ''                    # sendmail function ONLY TAKES 1 STRING\n    # Content to the individual that submitted form\n    content += ('Generated Incident Information:\\nIncident#: ' + incident + '\\n' +\n                'Edited By: ' + last_edited_user + '\\n'\n                + 'Edit Date: ' + str(last_edited_date) + '\\n')\n\n    msg = MIMEMultipart()\n    msg['From'] = fromaddr\n    msg['To'] = ','.join(toaddr)\n    msg['Subject'] = '[AUTO GENERATED INCIDENT]'\n    msg.attach(MIMEText(content))\n\n    try:\n        server = smtplib.SMTP('mailrelay.ntta.local', 25)\n        server.ehlo()\n        server.starttls()\n        server.ehlo()\n\n        text = msg.as_string()\n        # Email includes all incident numbers from last email\n        server.sendmail(fromaddr, toaddr, text)\n    except Exception as e:\n        # Log the error here instead of print\n        print(e)\n\n    finally:\n        server.quit()\n\ndef add_to_list(incident, last_edited_user, last_edited_date):\n    cursor.updateRow(row)       # Update the incident number field\n    # Append to the list\n    names_list.append({'incident': incident, 'last_edited_user': last_edited_user, 'last_edited_date': last_edited_date})\n    # PUT FUNCTION TO EMAIL INDIVIDUAL HERE\n    print('Incident#: ' + incident + '\\n' + 'Edited By: ' + last_edited_user + '\\n'\n          + 'Edit Date: ' + str(last_edited_date) + '\\n')\n    email_editor(incident, last_edited_user, last_edited_date)\n\n#--------------------END OF FUNCTIONS--------------------#\n\nyear = date.today().year\n\n\n\n# Fields of Interests\nfields = ['OCCUPATION_OTHER', 'last_edited_user', 'last_edited_date']\n\nworkspace = os.path.dirname(fc)\n\nedit = arcpy.da.Editor(workspace)\n\nedit.startEditing(False, False)\n\nedit.startOperation()\n\nwith arcpy.da.UpdateCursor(fc, fields) as cursor:\n    names_list = []     # List is needed for grabbing information to email\n    count = 0           # count of incidents in current calendar year\n    for row in cursor:\n#'2018-INC-001'\n        if row[0] is not None:  # Record has data\n            if row[0][0:4] == str(year):    # if the first 4 chars are what the current year variable is\n                count += 1 \n                print('rows in current year: {}'.format(count))\n            else:   # if the first 4 chars is not the same as current year, skip\n                continue\n        elif row[0] is None:\n            if count is 0:\n                count += 1\n                row[0] = '{year}-INC-00{count}'.format(year=year, count=count)\n                add_to_list(row[0], row[1], row[2])  # Add Incident info function\n\n            # Try merging with top conditional\n            elif 0 < count < 9:   # Count is great than 0 and less than 9 = count > 0 and count < 9\n                count += 1\n                row[0] = '{year}-INC-00{count}'.format(year=year, count=count)\n                add_to_list(row[0], row[1], row[2])  # Add Incident info function\n\n            elif 9 <= count < 99:     # Count is greater than or equal to 9 and less than 99 = count >= 9 and count < 99\n                count += 1\n                row[0] = '{year}-INC-0{count}'.format(year=year, count=count)\n                add_to_list(row[0], row[1], row[2])  # Add Incident info function\n\n            elif 99 <= count <= 999:      # Count is greater than or equal to 99 and less than or equal to 999 = count >= 99 and count <= 999\n                count += 1\n                row[0] = '{year}-INC-{count}'.format(year=year, count=count)\n                add_to_list(row[0], row[1], row[2])     # Add Incident info function\n            # Padding type of function for the count\n            \nemail_group(names_list)\n\n\nedit.stopOperation()\n\nedit.stopEditing(True)\n\n",
      "execution_count": null,
      "outputs": []
    }
  ],
  "metadata": {
    "kernelspec": {
      "name": "python36",
      "display_name": "Python 3.6",
      "language": "python"
    },
    "language_info": {
      "mimetype": "text/x-python",
      "nbconvert_exporter": "python",
      "name": "python",
      "pygments_lexer": "ipython3",
      "version": "3.6.6",
      "file_extension": ".py",
      "codemirror_mode": {
        "version": 3,
        "name": "ipython"
      }
    }
  },
  "nbformat": 4,
  "nbformat_minor": 2
}