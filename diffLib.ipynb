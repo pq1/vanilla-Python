{
  "cells": [
    {
      "metadata": {
        "trusted": true
      },
      "cell_type": "code",
      "source": "import difflib\nfrom pprint import pprint",
      "execution_count": 2,
      "outputs": []
    },
    {
      "metadata": {
        "trusted": true
      },
      "cell_type": "code",
      "source": "strTextA = 'this is a line'\nstrTextB = ' this is a longer line' ",
      "execution_count": 1,
      "outputs": []
    },
    {
      "metadata": {
        "trusted": true
      },
      "cell_type": "code",
      "source": "text_A = \"\"\"\n1) Only [text_A] has this line\n3) Both has this line\n4) Similar version ! :D Works in the middle or in the end\n\"\"\"\n\ntext_B = \"\"\"\n2) Can be found just in [text_B]\n3) Both has this line\n4) Similar ! :P Works in the middle or in the end as well\n\"\"\"",
      "execution_count": 2,
      "outputs": []
    },
    {
      "metadata": {
        "trusted": true
      },
      "cell_type": "code",
      "source": "deltaA = difflib.Differ().compare(strTextA, strTextB)",
      "execution_count": 3,
      "outputs": []
    },
    {
      "metadata": {
        "trusted": true
      },
      "cell_type": "code",
      "source": "pprint(deltaA.gi_code)",
      "execution_count": 6,
      "outputs": [
        {
          "output_type": "stream",
          "text": "<code object compare at 0x7fe6df9ec0c0, file \"/home/nbuser/anaconda3_501/lib/python3.6/difflib.py\", line 868>\n",
          "name": "stdout"
        }
      ]
    },
    {
      "metadata": {
        "trusted": true
      },
      "cell_type": "code",
      "source": "delta = difflib.Differ().compare(text_A.splitlines(), text_B.splitlines())",
      "execution_count": 13,
      "outputs": []
    },
    {
      "metadata": {
        "trusted": true
      },
      "cell_type": "code",
      "source": "pprint('\\n'.join(delta))",
      "execution_count": 14,
      "outputs": [
        {
          "output_type": "stream",
          "text": "('  \\n'\n '- 1) Only [text_A] has this line\\n'\n '+ 2) Can be found just in [text_B]\\n'\n '  3) Both has this line\\n'\n '- 4) Similar version ! :D Works in the middle or in the end\\n'\n '?            --------   ^\\n'\n '\\n'\n '+ 4) Similar ! :P Works in the middle or in the end as well\\n'\n '?               ^                                  ++++++++\\n')\n",
          "name": "stdout"
        }
      ]
    },
    {
      "metadata": {
        "trusted": true
      },
      "cell_type": "code",
      "source": "# Create HTML file of difference\ndelta_html = difflib.HtmlDiff().make_file(text_A.splitlines(), text_B.splitlines())",
      "execution_count": 16,
      "outputs": []
    },
    {
      "metadata": {
        "trusted": true
      },
      "cell_type": "code",
      "source": "with open('diff.html', 'w') as f:\n    f.write(delta_html)",
      "execution_count": 17,
      "outputs": []
    },
    {
      "metadata": {
        "trusted": true
      },
      "cell_type": "code",
      "source": "",
      "execution_count": null,
      "outputs": []
    }
  ],
  "metadata": {
    "kernelspec": {
      "name": "python36",
      "display_name": "Python 3.6",
      "language": "python"
    },
    "language_info": {
      "mimetype": "text/x-python",
      "nbconvert_exporter": "python",
      "name": "python",
      "pygments_lexer": "ipython3",
      "version": "3.6.6",
      "file_extension": ".py",
      "codemirror_mode": {
        "version": 3,
        "name": "ipython"
      }
    }
  },
  "nbformat": 4,
  "nbformat_minor": 2
}