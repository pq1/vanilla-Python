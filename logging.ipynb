{
  "cells": [
    {
      "metadata": {
        "trusted": true
      },
      "cell_type": "code",
      "source": "import logging\nfrom datetime import date, datetime\n\nnow = datetime.now()\ncurrent_time = now.strftime('%Y-%m-%d_%H-%M-%S')\n\nlogging.basicConfig(filemode='w', filename=r'\\\\<file_location>_{current_time}.log'.format(current_time=current_time), level=logging.INFO,\n                    format='%(asctime)s %(levelname)s %(message)s', datefmt='%Y-%m-%d %H:%M:%S')\nlogger = logging.getLogger()\n\n# Log time in UTC\nlogger.info('Logging information {}'.format(current_time))",
      "execution_count": 6,
      "outputs": [
        {
          "output_type": "stream",
          "text": "INFO:root:Logging information 2020-04-14_10-15-38\n",
          "name": "stderr"
        }
      ]
    },
    {
      "metadata": {
        "trusted": true
      },
      "cell_type": "code",
      "source": "",
      "execution_count": null,
      "outputs": []
    }
  ],
  "metadata": {
    "kernelspec": {
      "name": "python36",
      "display_name": "Python 3.6",
      "language": "python"
    },
    "language_info": {
      "mimetype": "text/x-python",
      "nbconvert_exporter": "python",
      "name": "python",
      "pygments_lexer": "ipython3",
      "version": "3.6.6",
      "file_extension": ".py",
      "codemirror_mode": {
        "version": 3,
        "name": "ipython"
      }
    }
  },
  "nbformat": 4,
  "nbformat_minor": 2
}